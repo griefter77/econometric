{
 "cells": [
  {
   "cell_type": "code",
   "execution_count": 1,
   "metadata": {},
   "outputs": [],
   "source": [
    "import pandas as pd\n",
    "import numpy as np\n",
    "import scipy.stats as stats\n",
    "import matplotlib.pyplot as plt"
   ]
  },
  {
   "cell_type": "markdown",
   "metadata": {},
   "source": [
    "cleaned for abvi"
   ]
  },
  {
   "cell_type": "code",
   "execution_count": 2,
   "metadata": {},
   "outputs": [
    {
     "name": "stderr",
     "output_type": "stream",
     "text": [
      "/var/folders/0y/tw20xqcj0v91d_rjglh0scw80000gn/T/ipykernel_20523/3054187768.py:18: DtypeWarning: Columns (2,6,39,41,44,45,46,47,97,99,101,103,169,172,179,197,198,199,200,213,223,229,231,232,235,237,238,241,245,249,252,260,262,263,264,265,266,267,268,269,270,271,272,273,274,275,276,277,278,279,280,281,282,287,289) have mixed types. Specify dtype option on import or set low_memory=False.\n",
      "  abiv = pd.read_csv(\"ABIV_English.csv\")\n",
      "/var/folders/0y/tw20xqcj0v91d_rjglh0scw80000gn/T/ipykernel_20523/3054187768.py:30: DtypeWarning: Columns (7,10,31,32,33,34,35,36,43,44,49,50,51,52,70,71,96,99,188,189,190,191,192,193,194,195,196,203,204,205,206,207,208,209,210,211,230,231,240,241,242,243,244,245,246,247,248,265,266,268,269,270,283,291,292,293,294,295) have mixed types. Specify dtype option on import or set low_memory=False.\n",
      "  abiii = pd.read_csv('ABIII_English.csv')\n",
      "/var/folders/0y/tw20xqcj0v91d_rjglh0scw80000gn/T/ipykernel_20523/3054187768.py:43: DtypeWarning: Columns (2,3,6,13,18,23,24,25,26,27,28,29,30,33,34,37,38,39,40,41,42,47,48,49,50,51,52,53,54,55,59,60,61,68,72,73,93,94,99,100,101,102,103,104,105,106,107,108,109,110,111,112,113,114,115,116,117,118,119,120,121,122,123,124,125,126,127,128,129,130,131,132,133,134,135,136,137,138,139,140,141,142,143,144,145,146,147,152,153,154,169,170,171,172,173,180,181,182,183,184,185,186,187,188,192,203,204,225,226,227,228,231,232,233,234,244,247,249,267,268,273,274,283,284,285,286,287,288,289,290,291,292,293,294,301,302,303,304,305,306,335,336,337,338,339,340,341,351,352,353,354,355,356,367,373,374,375,376,377,378,379,380,381,382,383,384,385,386,387,388,389,390,391,392,393,394,395,396,397,398,399,400,401,402,403,404,405,406,407,408,409,410,411,412,413,414,415,416,417,418,419,420,421,422,423,424,425,426,427,428,429,430,431,432,433,434,435,436,437,438,439,440,443,452,453,461,463,464,465,466) have mixed types. Specify dtype option on import or set low_memory=False.\n",
      "  abii = pd.read_csv('ABII_English.csv')\n"
     ]
    }
   ],
   "source": [
    "# abvi\n",
    "abvi = pd.read_csv('Arab_Barometer_Wave_6_Part_1_ENG_RELEASE.csv')\n",
    "abvi_final = abvi[['Q601_3','COUNTRY']]\n",
    "abvi_final = abvi_final.rename({'Q601_3':'data', 'COUNTRY':'country'},axis='columns')\n",
    "# abvi_final = abvi_final.drop(abvi_final[abvi_final.data >5].index)\n",
    "abvi_final['Period'] = '2020-2021'\n",
    "\n",
    "\n",
    "# abv\n",
    "abv = pd.read_csv('ABV_Release_Data.csv')\n",
    "abv_final = abv[['Q601_3','country']]\n",
    "abv_final = abv_final.rename({'Q601_3':'data'},axis='columns')\n",
    "# abv_final = abv_final.drop(abv_final[abv_final.data >5].index)\n",
    "abv_final['Period']='2018-2019'\n",
    "\n",
    "\n",
    "# abiv\n",
    "abiv = pd.read_csv(\"ABIV_English.csv\")\n",
    "abiv_final = abiv[['q6013','country']]\n",
    "abiv_final = abiv_final.rename({'q6013':'data'},axis='columns')\n",
    "\n",
    "abiv_final.loc[abiv_final['data'].str.contains('strongly agree'),'data']=1\n",
    "abiv_final['data']=abiv_final.data.replace(r'I agree','2')\n",
    "abiv_final['data']=abiv_final.data.replace(r'I disagree','3')\n",
    "abiv_final['data']=abiv_final.data.replace(r'I strongly disagree','4')\n",
    "abiv_final['Period'] = '2016-2017'\n",
    "\n",
    "\n",
    "# abiii\n",
    "abiii = pd.read_csv('ABIII_English.csv')\n",
    "abiii_final = abiii[['q6013','country']]\n",
    "abiii_final = abiii_final.rename({'q6013':'data'},axis='columns')\n",
    "\n",
    "abiii_final['data']=abiii_final.data.replace(r'I strongly agree','1')\n",
    "abiii_final['data']=abiii_final.data.replace(r'I somewhat agree','2')\n",
    "abiii_final['data']=abiii_final.data.replace(r'I somewhat disagree','3')\n",
    "abiii_final['data']=abiii_final.data.replace(r'I strongly disagree','4')\n",
    "abiii_final['Period'] = '2012-2014'\n",
    "\n",
    "\n",
    "\n",
    "# abii\n",
    "abii = pd.read_csv('ABII_English.csv')\n",
    "abii_final = abii[['q60103','country']]\n",
    "abii_final = abii_final.rename({'q60103':'data'},axis='columns')\n",
    "\n",
    "\n",
    "abii_final['data']=abii_final.data.replace(r'1. i strongly agree','1')\n",
    "abii_final['data']=abii_final.data.replace(r'2. i agree','2')\n",
    "abii_final['data']=abii_final.data.replace(r'3. i disagree','3')\n",
    "abii_final['data']=abii_final.data.replace(r'4. i strongly disagree','4')\n",
    "abii_final['country'] = abii_final['country'].apply(lambda x: x.split('. ')[1])\n",
    "\n",
    "abii_final['Period'] = '2010-2011'\n",
    "\n",
    "\n",
    "\n",
    "# abi\n",
    "abi = pd.read_csv('ABI_English.csv')\n",
    "abi_final = abi[['q5053','country']]\n",
    "abi_final = abi_final.rename({'q5053':'data'},axis='columns')\n",
    "\n",
    "\n",
    "abi_final['data']=abi_final.data.replace(r'agree','2')\n",
    "abi_final['data']=abi_final.data.replace(r'strongly agree','1')\n",
    "abi_final['data']=abi_final.data.replace(r'disagree','3')\n",
    "abi_final['data']=abi_final.data.replace(r'strongly disagree','4')\n",
    "abi_final['Period'] = '2006-2007'\n",
    "\n",
    "final_df1 = pd.concat([abi_final,abii_final, abiii_final, abiv_final, abv_final, abvi_final])\n"
   ]
  },
  {
   "cell_type": "code",
   "execution_count": 3,
   "metadata": {},
   "outputs": [],
   "source": [
    "final_df = final_df1.copy()\n"
   ]
  },
  {
   "cell_type": "code",
   "execution_count": 26,
   "metadata": {},
   "outputs": [
    {
     "data": {
      "text/plain": [
       "2    26319\n",
       "1    23807\n",
       "3    16358\n",
       "4     8302\n",
       "Name: data, dtype: int64"
      ]
     },
     "execution_count": 26,
     "metadata": {},
     "output_type": "execute_result"
    }
   ],
   "source": [
    "# fill NA to  a string to show the distribution\n",
    "final_df['data'] = final_df['data'].fillna('NA')\n",
    "final_df['data'].value_counts()"
   ]
  },
  {
   "cell_type": "code",
   "execution_count": 25,
   "metadata": {},
   "outputs": [
    {
     "data": {
      "text/plain": [
       "2    26319\n",
       "1    23807\n",
       "3    16358\n",
       "4     8302\n",
       "Name: data, dtype: int64"
      ]
     },
     "execution_count": 25,
     "metadata": {},
     "output_type": "execute_result"
    }
   ],
   "source": [
    "# getting rid of the string\n",
    "final_df['data'] = pd.to_numeric(final_df['data'], errors='coerce')\n",
    "\n",
    "# filtering data above 5, i.e no response, recasting to int, and distribution\n",
    "final_df = final_df[final_df['data'] < 5]\n",
    "final_df['data'] = final_df['data'].astype(int)\n",
    "final_df['data'].value_counts()"
   ]
  },
  {
   "cell_type": "code",
   "execution_count": 11,
   "metadata": {},
   "outputs": [
    {
     "data": {
      "text/html": [
       "<div>\n",
       "<style scoped>\n",
       "    .dataframe tbody tr th:only-of-type {\n",
       "        vertical-align: middle;\n",
       "    }\n",
       "\n",
       "    .dataframe tbody tr th {\n",
       "        vertical-align: top;\n",
       "    }\n",
       "\n",
       "    .dataframe thead th {\n",
       "        text-align: right;\n",
       "    }\n",
       "</style>\n",
       "<table border=\"1\" class=\"dataframe\">\n",
       "  <thead>\n",
       "    <tr style=\"text-align: right;\">\n",
       "      <th></th>\n",
       "      <th>data</th>\n",
       "    </tr>\n",
       "    <tr>\n",
       "      <th>Period</th>\n",
       "      <th></th>\n",
       "    </tr>\n",
       "  </thead>\n",
       "  <tbody>\n",
       "    <tr>\n",
       "      <th>2006-2007</th>\n",
       "      <td>2.01</td>\n",
       "    </tr>\n",
       "    <tr>\n",
       "      <th>2010-2011</th>\n",
       "      <td>1.92</td>\n",
       "    </tr>\n",
       "    <tr>\n",
       "      <th>2012-2014</th>\n",
       "      <td>2.15</td>\n",
       "    </tr>\n",
       "    <tr>\n",
       "      <th>2016-2017</th>\n",
       "      <td>2.09</td>\n",
       "    </tr>\n",
       "    <tr>\n",
       "      <th>2018-2019</th>\n",
       "      <td>2.14</td>\n",
       "    </tr>\n",
       "    <tr>\n",
       "      <th>2020-2021</th>\n",
       "      <td>2.61</td>\n",
       "    </tr>\n",
       "  </tbody>\n",
       "</table>\n",
       "</div>"
      ],
      "text/plain": [
       "           data\n",
       "Period         \n",
       "2006-2007  2.01\n",
       "2010-2011  1.92\n",
       "2012-2014  2.15\n",
       "2016-2017  2.09\n",
       "2018-2019  2.14\n",
       "2020-2021  2.61"
      ]
     },
     "execution_count": 11,
     "metadata": {},
     "output_type": "execute_result"
    }
   ],
   "source": [
    "mean_by_period = pd.DataFrame(final_df.groupby('Period')['data'].mean())\n",
    "mean_by_period.round(2)"
   ]
  },
  {
   "cell_type": "code",
   "execution_count": 12,
   "metadata": {},
   "outputs": [
    {
     "data": {
      "text/html": [
       "<div>\n",
       "<style scoped>\n",
       "    .dataframe tbody tr th:only-of-type {\n",
       "        vertical-align: middle;\n",
       "    }\n",
       "\n",
       "    .dataframe tbody tr th {\n",
       "        vertical-align: top;\n",
       "    }\n",
       "\n",
       "    .dataframe thead th {\n",
       "        text-align: right;\n",
       "    }\n",
       "</style>\n",
       "<table border=\"1\" class=\"dataframe\">\n",
       "  <thead>\n",
       "    <tr style=\"text-align: right;\">\n",
       "      <th></th>\n",
       "      <th>PoP Percentage Change</th>\n",
       "    </tr>\n",
       "    <tr>\n",
       "      <th>Period</th>\n",
       "      <th></th>\n",
       "    </tr>\n",
       "  </thead>\n",
       "  <tbody>\n",
       "    <tr>\n",
       "      <th>2006-2007</th>\n",
       "      <td>NaN</td>\n",
       "    </tr>\n",
       "    <tr>\n",
       "      <th>2010-2011</th>\n",
       "      <td>-4.17</td>\n",
       "    </tr>\n",
       "    <tr>\n",
       "      <th>2012-2014</th>\n",
       "      <td>11.78</td>\n",
       "    </tr>\n",
       "    <tr>\n",
       "      <th>2016-2017</th>\n",
       "      <td>-2.99</td>\n",
       "    </tr>\n",
       "    <tr>\n",
       "      <th>2018-2019</th>\n",
       "      <td>2.66</td>\n",
       "    </tr>\n",
       "    <tr>\n",
       "      <th>2020-2021</th>\n",
       "      <td>21.72</td>\n",
       "    </tr>\n",
       "  </tbody>\n",
       "</table>\n",
       "</div>"
      ],
      "text/plain": [
       "           PoP Percentage Change\n",
       "Period                          \n",
       "2006-2007                    NaN\n",
       "2010-2011                  -4.17\n",
       "2012-2014                  11.78\n",
       "2016-2017                  -2.99\n",
       "2018-2019                   2.66\n",
       "2020-2021                  21.72"
      ]
     },
     "execution_count": 12,
     "metadata": {},
     "output_type": "execute_result"
    }
   ],
   "source": [
    "pct_change_by_period = mean_by_period.pct_change()\n",
    "pct_change_by_period= pd.DataFrame((pct_change_by_period['data']*100).round(2))\n",
    "pct_change_by_period = pct_change_by_period.rename(columns={'data':'PoP Percentage Change'})\n",
    "pct_change_by_period\n"
   ]
  },
  {
   "cell_type": "code",
   "execution_count": 14,
   "metadata": {},
   "outputs": [
    {
     "data": {
      "text/plain": [
       "5.8"
      ]
     },
     "execution_count": 14,
     "metadata": {},
     "output_type": "execute_result"
    }
   ],
   "source": [
    "pct_change_by_period['PoP Percentage Change'].sum()/5"
   ]
  },
  {
   "cell_type": "code",
   "execution_count": 15,
   "metadata": {},
   "outputs": [],
   "source": [
    "# choose a base period\n",
    "base_period = '2006-2007'\n",
    "\n",
    "# extract the data value for the base period\n",
    "base_period_data = mean_by_period.loc[base_period, 'data']\n",
    "\n",
    "# calculate the percentage change of data for each subsequent period relative to the base period data value\n",
    "mean_by_period['Percentage Change from 2006-7 Period'] = ((mean_by_period['data'] / base_period_data - 1) * 100).round(2)\n",
    "mean_by_period = mean_by_period.round(2)\n",
    "mean_by_period = mean_by_period.rename(columns={'data':'Average Response Score'})\n"
   ]
  },
  {
   "cell_type": "code",
   "execution_count": 16,
   "metadata": {},
   "outputs": [
    {
     "data": {
      "text/html": [
       "<div>\n",
       "<style scoped>\n",
       "    .dataframe tbody tr th:only-of-type {\n",
       "        vertical-align: middle;\n",
       "    }\n",
       "\n",
       "    .dataframe tbody tr th {\n",
       "        vertical-align: top;\n",
       "    }\n",
       "\n",
       "    .dataframe thead th {\n",
       "        text-align: right;\n",
       "    }\n",
       "</style>\n",
       "<table border=\"1\" class=\"dataframe\">\n",
       "  <thead>\n",
       "    <tr style=\"text-align: right;\">\n",
       "      <th></th>\n",
       "      <th>Average Response Score</th>\n",
       "      <th>Percentage Change from 2006-7 Period</th>\n",
       "      <th>PoP Percentage Change</th>\n",
       "    </tr>\n",
       "    <tr>\n",
       "      <th>Period</th>\n",
       "      <th></th>\n",
       "      <th></th>\n",
       "      <th></th>\n",
       "    </tr>\n",
       "  </thead>\n",
       "  <tbody>\n",
       "    <tr>\n",
       "      <th>2006-2007</th>\n",
       "      <td>2.01</td>\n",
       "      <td>0.00</td>\n",
       "      <td>NaN</td>\n",
       "    </tr>\n",
       "    <tr>\n",
       "      <th>2010-2011</th>\n",
       "      <td>1.92</td>\n",
       "      <td>-4.17</td>\n",
       "      <td>-4.17</td>\n",
       "    </tr>\n",
       "    <tr>\n",
       "      <th>2012-2014</th>\n",
       "      <td>2.15</td>\n",
       "      <td>7.12</td>\n",
       "      <td>11.78</td>\n",
       "    </tr>\n",
       "    <tr>\n",
       "      <th>2016-2017</th>\n",
       "      <td>2.09</td>\n",
       "      <td>3.92</td>\n",
       "      <td>-2.99</td>\n",
       "    </tr>\n",
       "    <tr>\n",
       "      <th>2018-2019</th>\n",
       "      <td>2.14</td>\n",
       "      <td>6.69</td>\n",
       "      <td>2.66</td>\n",
       "    </tr>\n",
       "    <tr>\n",
       "      <th>2020-2021</th>\n",
       "      <td>2.61</td>\n",
       "      <td>29.86</td>\n",
       "      <td>21.72</td>\n",
       "    </tr>\n",
       "  </tbody>\n",
       "</table>\n",
       "</div>"
      ],
      "text/plain": [
       "           Average Response Score  Percentage Change from 2006-7 Period  \\\n",
       "Period                                                                    \n",
       "2006-2007                    2.01                                  0.00   \n",
       "2010-2011                    1.92                                 -4.17   \n",
       "2012-2014                    2.15                                  7.12   \n",
       "2016-2017                    2.09                                  3.92   \n",
       "2018-2019                    2.14                                  6.69   \n",
       "2020-2021                    2.61                                 29.86   \n",
       "\n",
       "           PoP Percentage Change  \n",
       "Period                            \n",
       "2006-2007                    NaN  \n",
       "2010-2011                  -4.17  \n",
       "2012-2014                  11.78  \n",
       "2016-2017                  -2.99  \n",
       "2018-2019                   2.66  \n",
       "2020-2021                  21.72  "
      ]
     },
     "execution_count": 16,
     "metadata": {},
     "output_type": "execute_result"
    }
   ],
   "source": [
    "pd.concat([mean_by_period, pct_change_by_period],axis=1)"
   ]
  },
  {
   "cell_type": "code",
   "execution_count": 20,
   "metadata": {},
   "outputs": [
    {
     "data": {
      "image/png": "[encoded data removed]",
      "text/plain": [
       "<Figure size 640x480 with 1 Axes>"
      ]
     },
     "metadata": {},
     "output_type": "display_data"
    }
   ],
   "source": [
    "# Compute the mean and standard deviation for each time period\n",
    "means = final_df.groupby('Period')['data'].mean()\n",
    "stds = final_df.groupby('Period')['data'].std()\n",
    "\n",
    "# Compute the standard error of the mean and confidence interval for each time period\n",
    "n = final_df.groupby('Period')['data'].count()\n",
    "se = stds / np.sqrt(n)\n",
    "# Calculate the t-value for a 95% confidence interval with n-1 degrees of freedom\n",
    "t_value = stats.t.ppf(0.975, n-1)\n",
    "\n",
    "# Calculate the confidence interval for each time period\n",
    "ci = t_value * se\n",
    "\n",
    "# Plot the data with error bars and confidence intervals\n",
    "plt.plot(means)\n",
    "plt.fill_between(means.index, means - ci, means + ci, color='red', alpha=0.5)\n",
    "# Add labels and titles\n",
    "plt.xlabel('Time Period')\n",
    "plt.ylabel('Response Score')\n",
    "plt.title(\"Higher Score Indicates More Positive Attitudes Towards Women\", fontsize=8)\n",
    "plt.suptitle('In General, Men are Better at Political Leadership than Women', fontsize=10)\n",
    "plt.ylim(0,4)\n",
    "plt.legend(['Response Score with CI'], loc= 'lower right')\n",
    "\n",
    "plt.show()"
   ]
  },
  {
   "cell_type": "code",
   "execution_count": 18,
   "metadata": {},
   "outputs": [
    {
     "data": {
      "text/html": [
       "<div>\n",
       "<style scoped>\n",
       "    .dataframe tbody tr th:only-of-type {\n",
       "        vertical-align: middle;\n",
       "    }\n",
       "\n",
       "    .dataframe tbody tr th {\n",
       "        vertical-align: top;\n",
       "    }\n",
       "\n",
       "    .dataframe thead th {\n",
       "        text-align: right;\n",
       "    }\n",
       "</style>\n",
       "<table border=\"1\" class=\"dataframe\">\n",
       "  <thead>\n",
       "    <tr style=\"text-align: right;\">\n",
       "      <th></th>\n",
       "      <th>Lower Bound</th>\n",
       "      <th>Upper Bound</th>\n",
       "      <th>CI Gap</th>\n",
       "    </tr>\n",
       "    <tr>\n",
       "      <th>Period</th>\n",
       "      <th></th>\n",
       "      <th></th>\n",
       "      <th></th>\n",
       "    </tr>\n",
       "  </thead>\n",
       "  <tbody>\n",
       "    <tr>\n",
       "      <th>2006-2007</th>\n",
       "      <td>1.985</td>\n",
       "      <td>2.029</td>\n",
       "      <td>0.044</td>\n",
       "    </tr>\n",
       "    <tr>\n",
       "      <th>2010-2011</th>\n",
       "      <td>1.907</td>\n",
       "      <td>1.940</td>\n",
       "      <td>0.033</td>\n",
       "    </tr>\n",
       "    <tr>\n",
       "      <th>2012-2014</th>\n",
       "      <td>2.134</td>\n",
       "      <td>2.167</td>\n",
       "      <td>0.033</td>\n",
       "    </tr>\n",
       "    <tr>\n",
       "      <th>2016-2017</th>\n",
       "      <td>2.066</td>\n",
       "      <td>2.106</td>\n",
       "      <td>0.040</td>\n",
       "    </tr>\n",
       "    <tr>\n",
       "      <th>2018-2019</th>\n",
       "      <td>2.130</td>\n",
       "      <td>2.153</td>\n",
       "      <td>0.023</td>\n",
       "    </tr>\n",
       "    <tr>\n",
       "      <th>2020-2021</th>\n",
       "      <td>2.579</td>\n",
       "      <td>2.634</td>\n",
       "      <td>0.055</td>\n",
       "    </tr>\n",
       "    <tr>\n",
       "      <th>Average</th>\n",
       "      <td>2.133</td>\n",
       "      <td>2.172</td>\n",
       "      <td>0.038</td>\n",
       "    </tr>\n",
       "  </tbody>\n",
       "</table>\n",
       "</div>"
      ],
      "text/plain": [
       "           Lower Bound  Upper Bound  CI Gap\n",
       "Period                                     \n",
       "2006-2007        1.985        2.029   0.044\n",
       "2010-2011        1.907        1.940   0.033\n",
       "2012-2014        2.134        2.167   0.033\n",
       "2016-2017        2.066        2.106   0.040\n",
       "2018-2019        2.130        2.153   0.023\n",
       "2020-2021        2.579        2.634   0.055\n",
       "Average          2.133        2.172   0.038"
      ]
     },
     "metadata": {},
     "output_type": "display_data"
    }
   ],
   "source": [
    "# Compute the upper and lower bounds for each country and time period\n",
    "bounds = pd.concat([means - ci, means + ci], axis=1, keys=['Lower Bound', 'Upper Bound'])\n",
    "\n",
    "# Reshape the DataFrame to have separate columns for the upper and lower bounds\n",
    "bounds = bounds.stack().unstack(level=1)\n",
    "\n",
    "# # Rename the index levels to 'Confidence Intervals' and 'Date'\n",
    "# bounds.index.names = ['Period', 'Confidence Intervals']\n",
    "\n",
    "# Sort the index by country and date\n",
    "bounds = bounds.sort_index()\n",
    "bounds = bounds.round(3)\n",
    "bounds['CI Gap'] = bounds['Upper Bound'] - bounds['Lower Bound']\n",
    "bounds.loc['Average']=bounds.mean().round(3)\n",
    "\n",
    "display(bounds)"
   ]
  },
  {
   "cell_type": "code",
   "execution_count": null,
   "metadata": {},
   "outputs": [],
   "source": []
  }
 ],
 "metadata": {
  "kernelspec": {
   "display_name": "Python 3.9.13 ('base')",
   "language": "python",
   "name": "python3"
  },
  "language_info": {
   "codemirror_mode": {
    "name": "ipython",
    "version": 3
   },
   "file_extension": ".py",
   "mimetype": "text/x-python",
   "name": "python",
   "nbconvert_exporter": "python",
   "pygments_lexer": "ipython3",
   "version": "3.9.13"
  },
  "orig_nbformat": 4,
  "vscode": {
   "interpreter": {
    "hash": "f1aa3e122fa24030f604b7c4cd38883ea0e7898950f44e2095a6627a0824a1b0"
   }
  }
 },
 "nbformat": 4,
 "nbformat_minor": 2
}
